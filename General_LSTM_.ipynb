{
  "nbformat": 4,
  "nbformat_minor": 0,
  "metadata": {
    "colab": {
      "name": "General LSTM .ipynb",
      "provenance": []
    },
    "kernelspec": {
      "name": "python3",
      "display_name": "Python 3"
    },
    "language_info": {
      "name": "python"
    }
  },
  "cells": [
    {
      "cell_type": "code",
      "execution_count": 2,
      "metadata": {
        "id": "hWjRa3L3rP1z"
      },
      "outputs": [],
      "source": [
        "\n",
        "def RNNpseudo ():\n",
        "  state_t = 0\n",
        "  for input_t in input_sequence:\n",
        "    output_t =  activation(dot(W, input_t) + dot(U, state_t) + b)\n",
        "    state_t = output_t"
      ]
    },
    {
      "cell_type": "code",
      "source": [
        "#Simple RNN forward Pass"
      ],
      "metadata": {
        "id": "QO08J8NdstX1"
      },
      "execution_count": 3,
      "outputs": []
    },
    {
      "cell_type": "code",
      "source": [
        "import numpy as np"
      ],
      "metadata": {
        "id": "rhxY7s2os8RN"
      },
      "execution_count": 1,
      "outputs": []
    },
    {
      "cell_type": "code",
      "source": [
        "timesteps = 100\n",
        "input_feature = 32\n",
        "output_feature = 64"
      ],
      "metadata": {
        "id": "-yiXCt5J0ed0"
      },
      "execution_count": 2,
      "outputs": []
    },
    {
      "cell_type": "code",
      "source": [
        "input = np.random.random((timesteps,input_feature))\n",
        "state_t = np.zeros((output_feature,))"
      ],
      "metadata": {
        "id": "J3VPXHPL0nf0"
      },
      "execution_count": 4,
      "outputs": []
    },
    {
      "cell_type": "code",
      "source": [
        "W = np.random.random((output_feature,input_feature))\n",
        "U = np.random.random((output_feature,output_feature))\n",
        "b= np.random.random((output_feature,))"
      ],
      "metadata": {
        "id": "8WpcPSUr0-HU"
      },
      "execution_count": 5,
      "outputs": []
    },
    {
      "cell_type": "code",
      "source": [
        "succesive_outputs = []"
      ],
      "metadata": {
        "id": "kfIFeyXB1Z7c"
      },
      "execution_count": 11,
      "outputs": []
    },
    {
      "cell_type": "code",
      "source": [
        "for input_t in input:\n",
        "  output_t = np.tanh(np.dot(W, input_t) + np.dot(U, state_t) + b)\n",
        "  succesive_outputs.append(output_t)\n",
        "  state_t = output_t\n",
        "final_output_sequence = np.concatenate(succesive_outputs,axis = 0)  "
      ],
      "metadata": {
        "id": "cyWdazBQ1bn1"
      },
      "execution_count": 12,
      "outputs": []
    },
    {
      "cell_type": "code",
      "source": [
        "import tensorflow"
      ],
      "metadata": {
        "id": "M2tZV7V11347"
      },
      "execution_count": 13,
      "outputs": []
    },
    {
      "cell_type": "code",
      "source": [
        "from tensorflow.keras.datasets import imdb\n",
        "from tensorflow.keras.preprocessing.sequence import pad_sequences"
      ],
      "metadata": {
        "id": "8XtkHZU43TPN"
      },
      "execution_count": 14,
      "outputs": []
    },
    {
      "cell_type": "code",
      "source": [
        "(x_train,y_train),(x_test,y_test) = imdb.load_data(num_words = 1000)"
      ],
      "metadata": {
        "colab": {
          "base_uri": "https://localhost:8080/"
        },
        "id": "8k0MmOx63af-",
        "outputId": "c7ac674e-a680-4fef-bd7e-c754260a8829"
      },
      "execution_count": 15,
      "outputs": [
        {
          "output_type": "stream",
          "name": "stdout",
          "text": [
            "Downloading data from https://storage.googleapis.com/tensorflow/tf-keras-datasets/imdb.npz\n",
            "17465344/17464789 [==============================] - 0s 0us/step\n",
            "17473536/17464789 [==============================] - 0s 0us/step\n"
          ]
        }
      ]
    },
    {
      "cell_type": "code",
      "source": [
        "max_features = 1000\n",
        "maxlen = 500\n",
        "batch_szie = 32"
      ],
      "metadata": {
        "id": "qWOhxfQS3jV3"
      },
      "execution_count": 16,
      "outputs": []
    },
    {
      "cell_type": "code",
      "source": [
        "x_train = pad_sequences(x_train,maxlen = maxlen)\n",
        "x_test = pad_sequences(x_test,maxlen=maxlen)\n",
        "y_train = np.asarray(y_train)\n",
        "y_test = np.asarray(y_test)"
      ],
      "metadata": {
        "id": "iIjyc38D3pL1"
      },
      "execution_count": 17,
      "outputs": []
    },
    {
      "cell_type": "code",
      "source": [
        "from tensorflow.keras.layers import Embedding, SimpleRNN,Dense\n",
        "from tensorflow.keras.models import Sequential"
      ],
      "metadata": {
        "id": "NRHEHAdE37mQ"
      },
      "execution_count": 19,
      "outputs": []
    },
    {
      "cell_type": "code",
      "source": [
        "network = Sequential([\n",
        "                      Embedding(max_features,32),\n",
        "                      SimpleRNN(32),\n",
        "                      Dense(units = 1,activation = 'sigmoid')\n",
        "])"
      ],
      "metadata": {
        "id": "EZMVLmlI4GS0"
      },
      "execution_count": 21,
      "outputs": []
    },
    {
      "cell_type": "code",
      "source": [
        "network.compile(loss= 'binary_crossentropy',optimizer = 'adam', metrics = ['accuracy'])"
      ],
      "metadata": {
        "id": "o1G1jhs64W6N"
      },
      "execution_count": 22,
      "outputs": []
    },
    {
      "cell_type": "code",
      "source": [
        "history = network.fit(x_train,y_train,epochs = 10,batch_size=128,validation_split = 0.2)"
      ],
      "metadata": {
        "colab": {
          "base_uri": "https://localhost:8080/"
        },
        "id": "jHIGg9Kg4fTE",
        "outputId": "cda3e2b8-eb71-4760-e373-0542d75e64fa"
      },
      "execution_count": 23,
      "outputs": [
        {
          "output_type": "stream",
          "name": "stdout",
          "text": [
            "Epoch 1/10\n",
            "157/157 [==============================] - 25s 150ms/step - loss: 0.5994 - accuracy: 0.6632 - val_loss: 0.4557 - val_accuracy: 0.8024\n",
            "Epoch 2/10\n",
            "157/157 [==============================] - 23s 147ms/step - loss: 0.4164 - accuracy: 0.8201 - val_loss: 0.4005 - val_accuracy: 0.8326\n",
            "Epoch 3/10\n",
            "157/157 [==============================] - 23s 145ms/step - loss: 0.4752 - accuracy: 0.7676 - val_loss: 0.6960 - val_accuracy: 0.5754\n",
            "Epoch 4/10\n",
            "157/157 [==============================] - 23s 146ms/step - loss: 0.6000 - accuracy: 0.6672 - val_loss: 0.6321 - val_accuracy: 0.6298\n",
            "Epoch 5/10\n",
            "157/157 [==============================] - 23s 146ms/step - loss: 0.5536 - accuracy: 0.7184 - val_loss: 0.6243 - val_accuracy: 0.6380\n",
            "Epoch 6/10\n",
            "157/157 [==============================] - 23s 146ms/step - loss: 0.5114 - accuracy: 0.7516 - val_loss: 0.6245 - val_accuracy: 0.6478\n",
            "Epoch 7/10\n",
            "157/157 [==============================] - 23s 144ms/step - loss: 0.4655 - accuracy: 0.7849 - val_loss: 0.6344 - val_accuracy: 0.6504\n",
            "Epoch 8/10\n",
            "157/157 [==============================] - 23s 145ms/step - loss: 0.4169 - accuracy: 0.8135 - val_loss: 0.6472 - val_accuracy: 0.6644\n",
            "Epoch 9/10\n",
            "157/157 [==============================] - 23s 146ms/step - loss: 0.3511 - accuracy: 0.8485 - val_loss: 0.5083 - val_accuracy: 0.7784\n",
            "Epoch 10/10\n",
            "157/157 [==============================] - 23s 145ms/step - loss: 0.2604 - accuracy: 0.8939 - val_loss: 0.5231 - val_accuracy: 0.7924\n"
          ]
        }
      ]
    },
    {
      "cell_type": "code",
      "source": [
        "import matplotlib.pyplot as plt\n",
        "acc = history.history['accuracy']\n",
        "val_acc = history.history['val_accuracy']\n",
        "loss = history.history['loss']\n",
        "val_loss = history.history['val_loss']\n",
        "epochs = range(1, len(acc) + 1)\n",
        "plt.plot(epochs, acc, 'bo', label='Training acc')\n",
        "plt.plot(epochs, val_acc, 'b', label='Validation acc')\n"
      ],
      "metadata": {
        "colab": {
          "base_uri": "https://localhost:8080/",
          "height": 283
        },
        "id": "IQg9Q4bN4nXr",
        "outputId": "be15fbcd-0477-449b-97ff-46c9f350df8b"
      },
      "execution_count": 25,
      "outputs": [
        {
          "output_type": "execute_result",
          "data": {
            "text/plain": [
              "[<matplotlib.lines.Line2D at 0x7f3d16ce8a50>]"
            ]
          },
          "metadata": {},
          "execution_count": 25
        },
        {
          "output_type": "display_data",
          "data": {
            "text/plain": [
              "<Figure size 432x288 with 1 Axes>"
            ],
            "image/png": "[encoded data removed]"
          },
          "metadata": {
            "needs_background": "light"
          }
        }
      ]
    },
    {
      "cell_type": "code",
      "source": [
        "network.save('Simple_RNN_IMDB.h5')"
      ],
      "metadata": {
        "id": "Uql82ndH5vw3"
      },
      "execution_count": 26,
      "outputs": []
    },
    {
      "cell_type": "code",
      "source": [
        "#LSTM MODEL"
      ],
      "metadata": {
        "id": "-epcaUnl56uM"
      },
      "execution_count": 27,
      "outputs": []
    },
    {
      "cell_type": "code",
      "source": [
        "from keras.layers import LSTM\n",
        "model = Sequential()\n",
        "model.add(Embedding(max_features, 32))\n",
        "model.add(LSTM(32))\n",
        "model.add(Dense(1, activation='sigmoid'))\n",
        "model.compile(optimizer='rmsprop',\n",
        "loss='binary_crossentropy',\n",
        "metrics=['acc'])\n",
        "history = model.fit(x_train, y_train,\n",
        "epochs=10,\n",
        "batch_size=128,\n",
        "validation_split=0.2)"
      ],
      "metadata": {
        "colab": {
          "base_uri": "https://localhost:8080/"
        },
        "id": "9GeWIYZ_AS7t",
        "outputId": "9e779bd5-150c-45e1-d18a-bcf94e3d61c6"
      },
      "execution_count": 29,
      "outputs": [
        {
          "output_type": "stream",
          "name": "stdout",
          "text": [
            "Epoch 1/10\n",
            "157/157 [==============================] - 62s 341ms/step - loss: 0.5544 - acc: 0.7251 - val_loss: 0.5096 - val_acc: 0.7486\n",
            "Epoch 2/10\n",
            "157/157 [==============================] - 53s 337ms/step - loss: 0.4092 - acc: 0.8220 - val_loss: 0.3934 - val_acc: 0.8350\n",
            "Epoch 3/10\n",
            "157/157 [==============================] - 53s 337ms/step - loss: 0.3662 - acc: 0.8446 - val_loss: 0.3469 - val_acc: 0.8596\n",
            "Epoch 4/10\n",
            "157/157 [==============================] - 51s 328ms/step - loss: 0.3471 - acc: 0.8523 - val_loss: 0.4497 - val_acc: 0.7920\n",
            "Epoch 5/10\n",
            "157/157 [==============================] - 52s 334ms/step - loss: 0.3333 - acc: 0.8623 - val_loss: 0.3377 - val_acc: 0.8582\n",
            "Epoch 6/10\n",
            "157/157 [==============================] - 52s 331ms/step - loss: 0.3280 - acc: 0.8648 - val_loss: 0.3691 - val_acc: 0.8394\n",
            "Epoch 7/10\n",
            "157/157 [==============================] - 52s 330ms/step - loss: 0.3187 - acc: 0.8681 - val_loss: 0.4275 - val_acc: 0.8126\n",
            "Epoch 8/10\n",
            "157/157 [==============================] - 53s 335ms/step - loss: 0.3029 - acc: 0.8752 - val_loss: 0.3905 - val_acc: 0.8286\n",
            "Epoch 9/10\n",
            "157/157 [==============================] - 52s 329ms/step - loss: 0.3043 - acc: 0.8747 - val_loss: 0.4962 - val_acc: 0.8222\n",
            "Epoch 10/10\n",
            "157/157 [==============================] - 52s 330ms/step - loss: 0.2964 - acc: 0.8768 - val_loss: 0.3498 - val_acc: 0.8502\n"
          ]
        }
      ]
    },
    {
      "cell_type": "code",
      "source": [
        "import matplotlib.pyplot as plt\n",
        "acc = history.history['acc']\n",
        "val_acc = history.history['val_acc']\n",
        "loss = history.history['loss']\n",
        "val_loss = history.history['val_loss']\n",
        "epochs = range(1, len(acc) + 1)\n",
        "plt.plot(epochs, acc, 'bo', label='Training acc')\n",
        "plt.plot(epochs, val_acc, 'b', label='Validation acc')"
      ],
      "metadata": {
        "colab": {
          "base_uri": "https://localhost:8080/",
          "height": 283
        },
        "id": "kezvgmB2AYEY",
        "outputId": "3fdff9f7-ec1c-4859-8eb3-7edc8fd8c15e"
      },
      "execution_count": 31,
      "outputs": [
        {
          "output_type": "execute_result",
          "data": {
            "text/plain": [
              "[<matplotlib.lines.Line2D at 0x7f3d18d3f390>]"
            ]
          },
          "metadata": {},
          "execution_count": 31
        },
        {
          "output_type": "display_data",
          "data": {
            "text/plain": [
              "<Figure size 432x288 with 1 Axes>"
            ],
            "image/png": "[encoded data removed]"
          },
          "metadata": {
            "needs_background": "light"
          }
        }
      ]
    },
    {
      "cell_type": "code",
      "source": [
        ""
      ],
      "metadata": {
        "id": "YPSDo0TUAhwV"
      },
      "execution_count": null,
      "outputs": []
    }
  ]
}